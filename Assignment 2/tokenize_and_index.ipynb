{
 "nbformat": 4,
 "nbformat_minor": 2,
 "metadata": {
  "language_info": {
   "name": "python",
   "codemirror_mode": {
    "name": "ipython",
    "version": 3
   },
   "version": "3.8.1-final"
  },
  "orig_nbformat": 2,
  "file_extension": ".py",
  "mimetype": "text/x-python",
  "name": "python",
  "npconvert_exporter": "python",
  "pygments_lexer": "ipython3",
  "version": 3,
  "kernelspec": {
   "name": "python38164bitenvvenv15e99bfcd1ba46ce8cf4ba06f7193b01",
   "display_name": "Python 3.8.1 64-bit ('env': venv)"
  }
 },
 "cells": [
  {
   "cell_type": "code",
   "execution_count": null,
   "metadata": {},
   "outputs": [],
   "source": [
    "import os\n",
    "from nltk.tokenize import word_tokenize\n",
    "from nltk.stem import PorterStemmer \n",
    "import string\n",
    "import re\n",
    "import pickle\n",
    "import gzip"
   ]
  },
  {
   "cell_type": "code",
   "execution_count": 22,
   "metadata": {},
   "outputs": [
    {
     "name": "stdout",
     "output_type": "stream",
     "text": "['10.200.200.100', '1', '000', 'hello', 'don', 't']\n"
    }
   ],
   "source": [
    "words = word_tokenize('1,000')\n",
    "for word in words:\n",
    "    print(re.split('[,\\']', mystring))\n",
    "# wordsFiltered = list(filter(lambda token: token not in string.punctuation, words))\n",
    "# print(wordsFiltered)"
   ]
  },
  {
   "cell_type": "code",
   "execution_count": null,
   "metadata": {},
   "outputs": [],
   "source": [
    "sen = 'rodwin:74996,4,23,66,68,87;'\n",
    "print(re.sub('^.*:', '', sen))"
   ]
  },
  {
   "cell_type": "code",
   "execution_count": null,
   "metadata": {},
   "outputs": [],
   "source": [
    "stopWords = []"
   ]
  },
  {
   "cell_type": "code",
   "execution_count": null,
   "metadata": {},
   "outputs": [],
   "source": [
    "catalogs = []"
   ]
  },
  {
   "cell_type": "code",
   "execution_count": null,
   "metadata": {},
   "outputs": [],
   "source": [
    "def writeToFile(path, invertedList, file_num, catalog_list):\n",
    "    catalog = dict()\n",
    "    filename = \"partial_inverted_list\" + str(file_num) + \".txt\"\n",
    "    with open(os.path.join(path, filename), 'a') as f:\n",
    "        for term in invertedList.keys():\n",
    "            startOffset = f.tell()\n",
    "            line = str(term) + \":\"\n",
    "            for docid in invertedList[term]:\n",
    "                if line!= str(term) + \":\":\n",
    "                    line+= ','\n",
    "                line +=  str(doc_mapping[docid]) + \",\" + str(invertedList[term][docid]['tf'])+ ',' +','.join(str(v) for v in invertedList[term][docid]['positions'])\n",
    "            f.write(line + \";\")\n",
    "            endOffset = f.tell()\n",
    "            catalog[term] = [startOffset, endOffset - startOffset]\n",
    "        catalog_list.append(catalog)"
   ]
  },
  {
   "cell_type": "code",
   "execution_count": null,
   "metadata": {},
   "outputs": [],
   "source": [
    "with open(\"D:\\\\CS 6200\\\\AP_DATA\\\\stoplist.txt\") as f:\n",
    "    for line in f:\n",
    "        line = line.rstrip()\n",
    "        stopWords.append(line.rstrip())"
   ]
  },
  {
   "cell_type": "code",
   "execution_count": null,
   "metadata": {},
   "outputs": [],
   "source": [
    "doc_mapping = dict()"
   ]
  },
  {
   "cell_type": "code",
   "execution_count": null,
   "metadata": {},
   "outputs": [],
   "source": [
    "def get_docid_mapping(id_mapping_file):\n",
    "    path = 'D:\\\\CS 6200\\\\AP_DATA'\n",
    "    docid_to_num = dict()\n",
    "    with open(os.path.join(path, id_mapping_file), 'r') as f:\n",
    "        for line in f:\n",
    "            doc_mapping = line.split()\n",
    "            docid_to_num[doc_mapping[0]] = doc_mapping[1]\n",
    "    return docid_to_num"
   ]
  },
  {
   "cell_type": "code",
   "execution_count": null,
   "metadata": {},
   "outputs": [],
   "source": [
    "doc_mapping = get_docid_mapping('docmapping.txt')"
   ]
  },
  {
   "cell_type": "code",
   "execution_count": null,
   "metadata": {},
   "outputs": [],
   "source": [
    "print(doc_mapping)"
   ]
  },
  {
   "cell_type": "code",
   "execution_count": null,
   "metadata": {},
   "outputs": [],
   "source": [
    "doc_lengths = dict()"
   ]
  },
  {
   "cell_type": "code",
   "execution_count": null,
   "metadata": {},
   "outputs": [],
   "source": [
    "def parse(u):\n",
    "\n",
    "    buffer = \"\"\n",
    "    token_dict = dict()\n",
    "    num_of_docs = 0\n",
    "    writes = 0\n",
    "    token_position = 0\n",
    "    ps = PorterStemmer()\n",
    "    \n",
    "    try:\n",
    "        for filename in os.listdir(u):\n",
    "            with open(os.path.join(path, filename)) as f:\n",
    "                buffer = \"\"\n",
    "                for line in f:\n",
    "                    if \"</DOC>\" in line:\n",
    "                        num_of_docs += 1\n",
    "                        docid = re.findall(r\"<DOCNO> (.*?) </DOCNO>\", buffer)\n",
    "                        contents = re.findall(r\"<TEXT> (.*?) </TEXT>\", buffer, re.VERBOSE|re.MULTILINE|re.DOTALL)\n",
    "                        token_position = 0\n",
    "                        contents[0] = contents[0].replace('<TEXT>',' ')\n",
    "                        contents[0] = contents[0].replace('</TEXT>',' ')\n",
    "                        contents[0] = contents[0].replace('-',' ')\n",
    "                        contents[0] = contents[0].replace('``', ' ')\n",
    "                        tokens = word_tokenize(contents[0].lower())\n",
    "                        wordsFiltered = []\n",
    "\n",
    "                        for w in tokens:\n",
    "                            if w not in stopWords:\n",
    "                                w = ps.stem(w)\n",
    "                                wordsFiltered.append(w)\n",
    "\n",
    "                        wordsFiltered = list(filter(lambda token: token not in string.punctuation, wordsFiltered))\n",
    "                        for word in wordsFiltered:\n",
    "                            token_position += 1\n",
    "                            if word not in token_dict:\n",
    "                                token_dict[word] = {}\n",
    "                                token_dict[word][docid[0]] = {}\n",
    "                                token_dict[word][docid[0]]['tf'] = 1\n",
    "                                token_dict[word][docid[0]]['positions'] = []\n",
    "                            elif word in token_dict:\n",
    "                                if docid[0] in token_dict[word]:\n",
    "                                    token_dict[word][docid[0]]['tf']  += 1\n",
    "                                else:\n",
    "                                    token_dict[word][docid[0]] = {}\n",
    "                                    token_dict[word][docid[0]]['positions'] = []\n",
    "                                    token_dict[word][docid[0]]['tf'] = 1\n",
    "\n",
    "                            token_dict[word][docid[0]]['positions'].append(token_position)\n",
    "                        doc_lengths[num_of_docs] = token_position\n",
    "                        buffer = \"\"\n",
    "\n",
    "\n",
    "                        if num_of_docs % 1000 == 0 or num_of_docs == 84678:\n",
    "                            print(num_of_docs)\n",
    "                            writes += 1\n",
    "                            writeToFile('D:\\\\CS 6200\\\\Assignment 2\\\\stemmed', token_dict, writes, catalogs)\n",
    "                            token_dict = dict()\n",
    "                    if num_of_docs == 84678:\n",
    "                        break\n",
    "\n",
    "                    line = line.replace('\\n',' ')\n",
    "                    buffer = buffer + line\n",
    "                    \n",
    "       \n",
    "    except Exception as ex:\n",
    "        print('Exception while parsing')\n",
    "        print(str(ex))\n",
    "    # finally:\n",
    "    #     return token_dict"
   ]
  },
  {
   "cell_type": "code",
   "execution_count": null,
   "metadata": {},
   "outputs": [],
   "source": [
    " path = \"D:\\\\CS 6200\\\\AP_DATA\\\\ap89_collection\""
   ]
  },
  {
   "cell_type": "code",
   "execution_count": null,
   "metadata": {},
   "outputs": [],
   "source": [
    "parse(path)"
   ]
  },
  {
   "cell_type": "code",
   "execution_count": null,
   "metadata": {},
   "outputs": [],
   "source": [
    "print(doc_lengths[84631])"
   ]
  },
  {
   "cell_type": "code",
   "execution_count": null,
   "metadata": {},
   "outputs": [],
   "source": [
    "with open('D:\\\\CS 6200\\\\Assignment 2\\\\stemmed\\\\doc_lengths.pickle', 'wb') as handle:\n",
    "    pickle.dump(doc_lengths, handle)"
   ]
  },
  {
   "cell_type": "code",
   "execution_count": null,
   "metadata": {},
   "outputs": [],
   "source": [
    "print(len(catalogs))"
   ]
  },
  {
   "cell_type": "code",
   "execution_count": null,
   "metadata": {},
   "outputs": [],
   "source": [
    "print(catalogs[0])"
   ]
  },
  {
   "cell_type": "code",
   "execution_count": null,
   "metadata": {},
   "outputs": [],
   "source": [
    "with open('D:\\\\CS 6200\\\\Assignment 2\\\\stemmed\\\\partial_inverted_list1.txt', 'r') as f:\n",
    "    f.seek(1837467)\n",
    "    print(f.read(19))"
   ]
  },
  {
   "cell_type": "code",
   "execution_count": null,
   "metadata": {},
   "outputs": [],
   "source": [
    "def pickle_catalogs(catalog_list, path):  \n",
    "    for i in range(0, len(catalog_list)):\n",
    "        filename = 'catalog' + str(i+1) + '.pickle'\n",
    "        with open(os.path.join(path, filename), 'wb') as handle:\n",
    "            pickle.dump(catalogs[i], handle)\n"
   ]
  },
  {
   "cell_type": "code",
   "execution_count": null,
   "metadata": {},
   "outputs": [],
   "source": [
    "pickle_catalogs(catalogs, 'D:\\\\CS 6200\\\\Assignment 2\\\\stemmed')"
   ]
  },
  {
   "cell_type": "code",
   "execution_count": null,
   "metadata": {},
   "outputs": [],
   "source": [
    "def merge_partial_lists(c1, c2, inverted_index_list, outFileName, catalog_name):\n",
    "    merged_catalog = dict()\n",
    "    file1 = open(inverted_index_list[0], 'r')\n",
    "    file2 = open(inverted_index_list[1], 'r')\n",
    "    path = 'D:\\\\CS 6200\\\\Assignment 2\\\\stemmed'\n",
    "    outFile = open(os.path.join(path, outFileName), 'a')\n",
    "\n",
    "    for term in c1:\n",
    "        if term not in merged_catalog:\n",
    "            if term not in c2:\n",
    "                file1.seek(c1[term][0])\n",
    "                line = file1.read(c1[term][1])\n",
    "                startOffset = outFile.tell()\n",
    "                outFile.write(line)\n",
    "                endOffset = outFile.tell()\n",
    "                merged_catalog[term] = [startOffset, endOffset-startOffset]\n",
    "            elif term in c2:\n",
    "                file1.seek(c1[term][0])\n",
    "                line = file1.read(c1[term][1]-1) + \",\"\n",
    "                file2.seek(c2[term][0])\n",
    "                file2_line = file2.read(c2[term][1])\n",
    "                file2_line = re.sub('^.*:', '', file2_line)\n",
    "                outLine = line + file2_line\n",
    "                startOffset = outFile.tell()\n",
    "                outFile.write(outLine)\n",
    "                endOffset = outFile.tell()\n",
    "                merged_catalog[term] = [startOffset, endOffset-startOffset]\n",
    "\n",
    "    for term in c2:\n",
    "        if term not in merged_catalog:\n",
    "            file2.seek(c2[term][0])\n",
    "            line = file2.read(c2[term][1])\n",
    "            startOffset = outFile.tell()\n",
    "            outFile.write(line)\n",
    "            endOffset = outFile.tell()\n",
    "            merged_catalog[term] = [startOffset, endOffset-startOffset]\n",
    "\n",
    "    outFile.close()\n",
    "    \n",
    "    #return merged_catalog\n",
    "    with open(os.path.join(path, catalog_name), 'wb') as handle:\n",
    "            pickle.dump(merged_catalog, handle)\n",
    "            "
   ]
  },
  {
   "cell_type": "code",
   "execution_count": null,
   "metadata": {},
   "outputs": [],
   "source": [
    "def unpickle_catalog(catalog_name):\n",
    "    path = 'D:\\\\CS 6200\\\\Assignment 2\\\\stemmed'\n",
    "    with open(os.path.join(path, catalog_name), 'rb') as handle:\n",
    "        b = pickle.load(handle)\n",
    "    return b"
   ]
  },
  {
   "cell_type": "code",
   "execution_count": null,
   "metadata": {},
   "outputs": [],
   "source": [
    "def get_full_file_path(file_name):\n",
    "    path = 'D:\\\\CS 6200\\\\Assignment 2\\\\stemmed'\n",
    "    return os.path.join(path, file_name)"
   ]
  },
  {
   "cell_type": "code",
   "execution_count": null,
   "metadata": {},
   "outputs": [],
   "source": [
    "iilist = ['D:\\\\CS 6200\\\\Assignment 2\\\\stemmed\\\\partial_inverted_list1.txt', 'D:\\\\CS 6200\\\\Assignment 2\\\\stemmed\\\\partial_inverted_list2.txt']"
   ]
  },
  {
   "cell_type": "code",
   "execution_count": null,
   "metadata": {},
   "outputs": [],
   "source": [
    "joined_catalog = merge_partial_lists(catalogs[0], catalogs[1], iilist, 'l2_merged_index.txt', 'l2_catalog.pickle')"
   ]
  },
  {
   "cell_type": "code",
   "execution_count": null,
   "metadata": {},
   "outputs": [],
   "source": [
    "for i in range(3, 86): \n",
    "    c1_file_name = 'l' + str(i-1) + '_catalog.pickle'\n",
    "    c2_file_name = 'catalog' + str(i) + '.pickle'\n",
    "    print\n",
    "    c1 = unpickle_catalog(c1_file_name) \n",
    "    c2 = unpickle_catalog(c2_file_name)  \n",
    "    partial_list_name1 = 'l' + str(i-1) + '_merged_index.txt'\n",
    "    partial_list_name2 = 'partial_inverted_list' + str(i) + '.txt'\n",
    "    ii_list = [get_full_file_path(partial_list_name1), get_full_file_path(partial_list_name2)]\n",
    "    outFile = 'l' + str(i) + '_merged_index.txt'\n",
    "    catalog_name = 'l' + str(i) + '_catalog.pickle'\n",
    "    print(ii_list, '\\n', c1_file_name, '\\n', c2_file_name, '\\n', catalog_name, '\\n', outFile)\n",
    "    merge_partial_lists(c1, c2, ii_list, outFile, catalog_name)"
   ]
  },
  {
   "cell_type": "code",
   "execution_count": null,
   "metadata": {},
   "outputs": [],
   "source": [
    "print(len(list(unpickle_catalog('l85_catalog.pickle').keys())))"
   ]
  },
  {
   "cell_type": "code",
   "execution_count": null,
   "metadata": {},
   "outputs": [],
   "source": [
    "def move():\n",
    "    icPath = 'D:\\\\CS 6200\\\\Assignment 2\\\\stemmed'\n",
    "    with open(os.path.join(icPath, 'l85_merged_index.txt'), 'r') as fin:\n",
    "        d = fin.read()\n",
    "    fin.close()\n",
    "    b = d.encode()\n",
    "    with gzip.open(os.path.join(icPath, 'file.txt.gz'), 'w+') as fou:\n",
    "        fou.write(b)\n",
    "    fou.close()"
   ]
  },
  {
   "cell_type": "code",
   "execution_count": null,
   "metadata": {},
   "outputs": [],
   "source": [
    "move()"
   ]
  },
  {
   "cell_type": "code",
   "execution_count": null,
   "metadata": {},
   "outputs": [],
   "source": []
  }
 ]
}