{
 "nbformat": 4,
 "nbformat_minor": 2,
 "metadata": {
  "language_info": {
   "name": "python",
   "codemirror_mode": {
    "name": "ipython",
    "version": 3
   },
   "version": "3.8.1-final"
  },
  "orig_nbformat": 2,
  "file_extension": ".py",
  "mimetype": "text/x-python",
  "name": "python",
  "npconvert_exporter": "python",
  "pygments_lexer": "ipython3",
  "version": 3,
  "kernelspec": {
   "name": "python38164bitenvvenv7533db0592054ba080cdf2f4c2630703",
   "display_name": "Python 3.8.1 64-bit ('env': venv)"
  }
 },
 "cells": [
  {
   "cell_type": "code",
   "execution_count": 33,
   "metadata": {},
   "outputs": [],
   "source": [
    "from elasticsearch import Elasticsearch, helpers\n",
    "import os\n",
    "import re\n",
    "import json\n",
    "import logging\n",
    "import operator"
   ]
  },
  {
   "cell_type": "code",
   "execution_count": 34,
   "metadata": {},
   "outputs": [],
   "source": [
    "def connect_elasticsearch():\n",
    "    _es = None\n",
    "    _es = Elasticsearch([{'host': 'localhost', 'port': 9200}])\n",
    "    if _es.ping():\n",
    "        print('Yay Connected')\n",
    "    else:\n",
    "        print('Awww it could not connect!')\n",
    "    return _es\n",
    "if __name__ == '__main__':\n",
    "  logging.basicConfig(level=logging.ERROR)"
   ]
  },
  {
   "cell_type": "code",
   "execution_count": 35,
   "metadata": {},
   "outputs": [
    {
     "name": "stdout",
     "output_type": "stream",
     "text": "Yay Connected\n"
    }
   ],
   "source": [
    "es = connect_elasticsearch()"
   ]
  },
  {
   "cell_type": "markdown",
   "execution_count": null,
   "metadata": {},
   "outputs": [],
   "source": [
    "## Load Query File "
   ]
  },
  {
   "cell_type": "code",
   "execution_count": 36,
   "metadata": {},
   "outputs": [],
   "source": [
    "query_file_path = \"D:\\\\CS 6200\\\\AP_DATA\\\\query_desc.51-100.short.txt\"\n",
    "queries = dict()\n",
    "with open(query_file_path) as f:\n",
    "    for line in f:\n",
    "        if len(line.strip()) > 0:\n",
    "            query_no = re.search(r'\\d+', line).group()\n",
    "            line = line.lstrip('0123456789.- ')\n",
    "            queries[query_no] = line.rstrip()"
   ]
  },
  {
   "cell_type": "markdown",
   "execution_count": null,
   "metadata": {},
   "outputs": [],
   "source": [
    "## Load Results file for TF-IDF"
   ]
  },
  {
   "cell_type": "code",
   "execution_count": 37,
   "metadata": {},
   "outputs": [],
   "source": [
    "tfidf_file_path = \"D:\\\\CS 6200\\\\AP_DATA\\\\results_tfidf.txt\"\n",
    "doc_dict = dict()\n",
    "relevant_docs = []\n",
    "line_num = 0\n",
    "query_num = 0\n",
    "with open(tfidf_file_path) as f:\n",
    "    for line in f:\n",
    "        line_num +=1\n",
    "        tokens = line.split()\n",
    "        query_num = tokens[0]\n",
    "        if line_num == 1000:\n",
    "            line_num = 0\n",
    "            doc_dict[query_num] = relevant_docs\n",
    "            relevant_docs = []\n",
    "        if line_num in range(1,11):\n",
    "            relevant_docs.append(tokens[2])\n",
    "        else:\n",
    "            continue\n",
    "        "
   ]
  },
  {
   "cell_type": "code",
   "execution_count": 38,
   "metadata": {},
   "outputs": [
    {
     "name": "stdout",
     "output_type": "stream",
     "text": "dict_keys(['85', '59', '56', '71', '64', '62', '93', '99', '58', '77', '54', '87', '94', '100', '89', '61', '95', '68', '57', '97', '98', '60', '80', '63', '91'])\n"
    }
   ],
   "source": [
    "print(doc_dict.keys())"
   ]
  },
  {
   "cell_type": "code",
   "execution_count": 39,
   "metadata": {},
   "outputs": [],
   "source": [
    "query_relevant_terms = dict()"
   ]
  },
  {
   "cell_type": "code",
   "execution_count": 40,
   "metadata": {},
   "outputs": [
    {
     "name": "stdout",
     "output_type": "stream",
     "text": "{'85': ['bribe', 'govern', 'charg'], '59': ['wind', 'hurrican', 'damag'], '56': ['percent', 'bank', 'interest'], '71': ['south', 'u.n', 'namibia'], '64': ['hostag', 'report', 'releas'], '62': ['govern', 'militari', 'avril'], '93': ['rifl', 'gun', 'weapon'], '99': ['north', 'iran', 'contra'], '58': ['worker', 'railwai', 'transport'], '77': ['eleph', 'ivori', 'trade'], '54': ['satellit', 'rocket', 'orbit'], '87': ['financi', 'investig', 'hous'], '94': ['comput', 'sai', 'inform'], '100': ['soviet', 'compani', 'gorbachev'], '89': ['oil', 'opec', 'price'], '61': ['north', 'iran', 'arm'], '95': ['comput', 'ibm', 'compani'], '68': ['compani', 'worker', 'safeti'], '57': ['amp', 'mci', 't'], '97': ['cabl', 'compani', 'telephon'], '98': ['cabl', 'compani', 'telephon'], '60': ['pai', 'rais', 'feder'], '80': ['presidenti', 'candid', 'fund'], '63': ['translat', 'comput', 'machin'], '91': ['weapon', 'chemic', 'armi']}\n"
    }
   ],
   "source": [
    "for key in doc_dict:\n",
    "    statistics = es.mtermvectors(index = \"assignment1\", ids = doc_dict[key], term_statistics = False, fields = \"text\")\n",
    "    relevant_terms = dict()\n",
    "    for doc in statistics[\"docs\"]:\n",
    "        if doc[\"term_vectors\"]:\n",
    "                words = doc[\"term_vectors\"][\"text\"][\"terms\"]\n",
    "                termsList = list(words.keys())\n",
    "                for term in termsList:\n",
    "                    if term not in queries[key].split():\n",
    "                        if term not in relevant_terms:\n",
    "                            relevant_terms[term] = words[term][\"term_freq\"]\n",
    "                        else:\n",
    "                            relevant_terms[term] += words[term][\"term_freq\"]\n",
    "    sorted_d = dict( sorted(relevant_terms.items(), key=operator.itemgetter(1),reverse=True))\n",
    "    sortedKeys = list(sorted_d)\n",
    "\n",
    "    query_relevant_terms[key] = sortedKeys[:3]   \n",
    "print(query_relevant_terms)       \n"
   ]
  },
  {
   "cell_type": "code",
   "execution_count": 41,
   "metadata": {},
   "outputs": [
    {
     "name": "stdout",
     "output_type": "stream",
     "text": "allegation corrupt official government bribes\n"
    }
   ],
   "source": [
    "print(queries['85'])"
   ]
  },
  {
   "cell_type": "code",
   "execution_count": 42,
   "metadata": {},
   "outputs": [],
   "source": [
    "outF = open(\"D:\\\\CS 6200\\\\AP_DATA\\\\queries_pr1.txt\", \"a\")\n",
    "for key in queries:\n",
    "    string = \"\"\n",
    "    for i in range(0, len(query_relevant_terms[key])):\n",
    "        string += \" \"+query_relevant_terms[key][i]\n",
    "    modified_query = queries[key] +string\n",
    "    line = str(key) + \". \" + modified_query + \"\\n\"\n",
    "    outF.write(line)\n",
    "outF.close()"
   ]
  },
  {
   "cell_type": "code",
   "execution_count": null,
   "metadata": {},
   "outputs": [],
   "source": []
  }
 ]
}